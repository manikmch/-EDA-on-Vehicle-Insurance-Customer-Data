{
 "cells": [
  {
   "cell_type": "markdown",
   "id": "ac285945",
   "metadata": {},
   "source": [
    "A company has customer data that contains 8 columns of customer details and another table having name customer_policy data contains the policy details of the customer. \n",
    "The company intends to offer some discount in premium for certain customers. To do that they ask their Data scientist team to get some information. Hence, following tasks DS team decided to perform:\n"
   ]
  },
  {
   "cell_type": "markdown",
   "id": "06c742bc",
   "metadata": {},
   "source": [
    "### Data importation and giving column names :-"
   ]
  },
  {
   "cell_type": "code",
   "execution_count": 1,
   "id": "698694a0",
   "metadata": {},
   "outputs": [],
   "source": [
    "# importing libraries\n",
    "\n",
    "import pandas as pd\n",
    "import numpy as np\n",
    "pd.options.mode.chained_assignment = None"
   ]
  },
  {
   "cell_type": "markdown",
   "id": "dbe9ad7b",
   "metadata": {},
   "source": [
    "1)Add the column names to both datasets:\\\n",
    "    i) Column Name for customer details table:\\\n",
    "    customer_id,\\\n",
    "    Gender,\\\n",
    "    age, \\\n",
    "    driving licence present,\\\n",
    "    region code, \\\n",
    "    previously insured, \\\n",
    "    vehicle age \\\n",
    "    and vehicle damage in respective order. \n"
   ]
  },
  {
   "cell_type": "code",
   "execution_count": 2,
   "id": "2cf3564c",
   "metadata": {},
   "outputs": [
    {
     "name": "stdout",
     "output_type": "stream",
     "text": [
      "Customer details table :\n"
     ]
    },
    {
     "data": {
      "text/html": [
       "<div>\n",
       "<style scoped>\n",
       "    .dataframe tbody tr th:only-of-type {\n",
       "        vertical-align: middle;\n",
       "    }\n",
       "\n",
       "    .dataframe tbody tr th {\n",
       "        vertical-align: top;\n",
       "    }\n",
       "\n",
       "    .dataframe thead th {\n",
       "        text-align: right;\n",
       "    }\n",
       "</style>\n",
       "<table border=\"1\" class=\"dataframe\">\n",
       "  <thead>\n",
       "    <tr style=\"text-align: right;\">\n",
       "      <th></th>\n",
       "      <th>customer_id</th>\n",
       "      <th>Gender</th>\n",
       "      <th>age</th>\n",
       "      <th>driving licence present</th>\n",
       "      <th>region code</th>\n",
       "      <th>previously insured</th>\n",
       "      <th>vehicle age</th>\n",
       "      <th>vehicle damage</th>\n",
       "    </tr>\n",
       "  </thead>\n",
       "  <tbody>\n",
       "    <tr>\n",
       "      <th>0</th>\n",
       "      <td>1.0</td>\n",
       "      <td>Male</td>\n",
       "      <td>44.0</td>\n",
       "      <td>1.0</td>\n",
       "      <td>28.0</td>\n",
       "      <td>0.0</td>\n",
       "      <td>&gt; 2 Years</td>\n",
       "      <td>Yes</td>\n",
       "    </tr>\n",
       "    <tr>\n",
       "      <th>1</th>\n",
       "      <td>2.0</td>\n",
       "      <td>Male</td>\n",
       "      <td>76.0</td>\n",
       "      <td>1.0</td>\n",
       "      <td>3.0</td>\n",
       "      <td>0.0</td>\n",
       "      <td>1-2 Year</td>\n",
       "      <td>No</td>\n",
       "    </tr>\n",
       "    <tr>\n",
       "      <th>2</th>\n",
       "      <td>3.0</td>\n",
       "      <td>Male</td>\n",
       "      <td>47.0</td>\n",
       "      <td>1.0</td>\n",
       "      <td>28.0</td>\n",
       "      <td>0.0</td>\n",
       "      <td>&gt; 2 Years</td>\n",
       "      <td>Yes</td>\n",
       "    </tr>\n",
       "    <tr>\n",
       "      <th>3</th>\n",
       "      <td>4.0</td>\n",
       "      <td>Male</td>\n",
       "      <td>21.0</td>\n",
       "      <td>1.0</td>\n",
       "      <td>11.0</td>\n",
       "      <td>1.0</td>\n",
       "      <td>&lt; 1 Year</td>\n",
       "      <td>No</td>\n",
       "    </tr>\n",
       "    <tr>\n",
       "      <th>4</th>\n",
       "      <td>5.0</td>\n",
       "      <td>Female</td>\n",
       "      <td>29.0</td>\n",
       "      <td>1.0</td>\n",
       "      <td>41.0</td>\n",
       "      <td>1.0</td>\n",
       "      <td>&lt; 1 Year</td>\n",
       "      <td>No</td>\n",
       "    </tr>\n",
       "  </tbody>\n",
       "</table>\n",
       "</div>"
      ],
      "text/plain": [
       "   customer_id  Gender   age  driving licence present  region code  \\\n",
       "0          1.0    Male  44.0                      1.0         28.0   \n",
       "1          2.0    Male  76.0                      1.0          3.0   \n",
       "2          3.0    Male  47.0                      1.0         28.0   \n",
       "3          4.0    Male  21.0                      1.0         11.0   \n",
       "4          5.0  Female  29.0                      1.0         41.0   \n",
       "\n",
       "   previously insured vehicle age vehicle damage  \n",
       "0                 0.0   > 2 Years            Yes  \n",
       "1                 0.0    1-2 Year             No  \n",
       "2                 0.0   > 2 Years            Yes  \n",
       "3                 1.0    < 1 Year             No  \n",
       "4                 1.0    < 1 Year             No  "
      ]
     },
     "execution_count": 2,
     "metadata": {},
     "output_type": "execute_result"
    }
   ],
   "source": [
    "customer_details = pd.read_csv('customer_details.csv')\n",
    "customer_details.columns = ['customer_id','Gender','age','driving licence present','region code','previously insured',\n",
    "'vehicle age', 'vehicle damage']\n",
    "print (\"Customer details table :\")\n",
    "customer_details.head()"
   ]
  },
  {
   "cell_type": "markdown",
   "id": "80c0628e",
   "metadata": {},
   "source": [
    "ii) Column Name for customer_policy table:\\\n",
    "customer_id, \\\n",
    "annual premium (in Rs), \\\n",
    "sales channel code, \\\n",
    "vintage and response. "
   ]
  },
  {
   "cell_type": "code",
   "execution_count": 3,
   "id": "8d9e297a",
   "metadata": {},
   "outputs": [
    {
     "name": "stdout",
     "output_type": "stream",
     "text": [
      "Customer policy details :\n"
     ]
    },
    {
     "data": {
      "text/html": [
       "<div>\n",
       "<style scoped>\n",
       "    .dataframe tbody tr th:only-of-type {\n",
       "        vertical-align: middle;\n",
       "    }\n",
       "\n",
       "    .dataframe tbody tr th {\n",
       "        vertical-align: top;\n",
       "    }\n",
       "\n",
       "    .dataframe thead th {\n",
       "        text-align: right;\n",
       "    }\n",
       "</style>\n",
       "<table border=\"1\" class=\"dataframe\">\n",
       "  <thead>\n",
       "    <tr style=\"text-align: right;\">\n",
       "      <th></th>\n",
       "      <th>customer_id</th>\n",
       "      <th>annual premium (in Rs)</th>\n",
       "      <th>sales channel code</th>\n",
       "      <th>vintage</th>\n",
       "      <th>response</th>\n",
       "    </tr>\n",
       "  </thead>\n",
       "  <tbody>\n",
       "    <tr>\n",
       "      <th>0</th>\n",
       "      <td>1.0</td>\n",
       "      <td>40454.0</td>\n",
       "      <td>26.0</td>\n",
       "      <td>217.0</td>\n",
       "      <td>1.0</td>\n",
       "    </tr>\n",
       "    <tr>\n",
       "      <th>1</th>\n",
       "      <td>2.0</td>\n",
       "      <td>33536.0</td>\n",
       "      <td>26.0</td>\n",
       "      <td>183.0</td>\n",
       "      <td>0.0</td>\n",
       "    </tr>\n",
       "    <tr>\n",
       "      <th>2</th>\n",
       "      <td>3.0</td>\n",
       "      <td>38294.0</td>\n",
       "      <td>26.0</td>\n",
       "      <td>27.0</td>\n",
       "      <td>1.0</td>\n",
       "    </tr>\n",
       "    <tr>\n",
       "      <th>3</th>\n",
       "      <td>4.0</td>\n",
       "      <td>28619.0</td>\n",
       "      <td>152.0</td>\n",
       "      <td>203.0</td>\n",
       "      <td>0.0</td>\n",
       "    </tr>\n",
       "    <tr>\n",
       "      <th>4</th>\n",
       "      <td>5.0</td>\n",
       "      <td>27496.0</td>\n",
       "      <td>152.0</td>\n",
       "      <td>39.0</td>\n",
       "      <td>0.0</td>\n",
       "    </tr>\n",
       "  </tbody>\n",
       "</table>\n",
       "</div>"
      ],
      "text/plain": [
       "   customer_id  annual premium (in Rs)  sales channel code  vintage  response\n",
       "0          1.0                 40454.0                26.0    217.0       1.0\n",
       "1          2.0                 33536.0                26.0    183.0       0.0\n",
       "2          3.0                 38294.0                26.0     27.0       1.0\n",
       "3          4.0                 28619.0               152.0    203.0       0.0\n",
       "4          5.0                 27496.0               152.0     39.0       0.0"
      ]
     },
     "execution_count": 3,
     "metadata": {},
     "output_type": "execute_result"
    }
   ],
   "source": [
    "customer_policy = pd.read_csv('customer_policy_details.csv')\n",
    "customer_policy.columns = ['customer_id','annual premium (in Rs)','sales channel code','vintage','response']\n",
    "print (\"Customer policy details :\")\n",
    "customer_policy.head()"
   ]
  },
  {
   "cell_type": "markdown",
   "id": "eef3a300",
   "metadata": {},
   "source": [
    "### Null Values preprocessing for customer details table:-"
   ]
  },
  {
   "cell_type": "markdown",
   "id": "cb5a1c3f",
   "metadata": {},
   "source": [
    "2)Checking and Cleaning Data Quality:\\\n",
    "i) Null values\\\n",
    "Generate a summary of count of all the null values column wise\\\n",
    "Drop Null values for customer_id because central tendencies for id’s is not feasible.\\\n",
    "Replace all null values for numeric columns by mean.\\\n",
    "Replace all null values for Categorical value by mode."
   ]
  },
  {
   "cell_type": "code",
   "execution_count": 4,
   "id": "c14660ad",
   "metadata": {},
   "outputs": [
    {
     "name": "stdout",
     "output_type": "stream",
     "text": [
      "Summary of null values in customer details :\n"
     ]
    },
    {
     "data": {
      "text/plain": [
       "customer_id                386\n",
       "Gender                     368\n",
       "age                        368\n",
       "driving licence present    393\n",
       "region code                392\n",
       "previously insured         381\n",
       "vehicle age                381\n",
       "vehicle damage             407\n",
       "dtype: int64"
      ]
     },
     "execution_count": 4,
     "metadata": {},
     "output_type": "execute_result"
    }
   ],
   "source": [
    "print (\"Summary of null values in customer details :\")\n",
    "customer_details.isna().sum()"
   ]
  },
  {
   "cell_type": "code",
   "execution_count": 5,
   "id": "7bfe83d1",
   "metadata": {},
   "outputs": [
    {
     "name": "stdout",
     "output_type": "stream",
     "text": [
      "Summary of null values of customer details after dropping customer_id :\n"
     ]
    },
    {
     "data": {
      "text/plain": [
       "customer_id                  0\n",
       "Gender                     368\n",
       "age                        366\n",
       "driving licence present    392\n",
       "region code                391\n",
       "previously insured         381\n",
       "vehicle age                381\n",
       "vehicle damage             406\n",
       "dtype: int64"
      ]
     },
     "execution_count": 5,
     "metadata": {},
     "output_type": "execute_result"
    }
   ],
   "source": [
    "customer_details.dropna(subset = ['customer_id'],inplace = True)\n",
    "\n",
    "print (\"Summary of null values of customer details after dropping customer_id :\")\n",
    "customer_details.isna().sum()"
   ]
  },
  {
   "cell_type": "code",
   "execution_count": 6,
   "id": "d090a730",
   "metadata": {},
   "outputs": [
    {
     "name": "stdout",
     "output_type": "stream",
     "text": [
      "Summary of null values after replacing all null values for numeric columns by mean :\n"
     ]
    },
    {
     "data": {
      "text/plain": [
       "customer_id                  0\n",
       "Gender                     368\n",
       "age                          0\n",
       "driving licence present      0\n",
       "region code                  0\n",
       "previously insured           0\n",
       "vehicle age                381\n",
       "vehicle damage             406\n",
       "dtype: int64"
      ]
     },
     "execution_count": 6,
     "metadata": {},
     "output_type": "execute_result"
    }
   ],
   "source": [
    "customer_details['age'].fillna(customer_details['age'].mean(), inplace = True)\n",
    "customer_details['driving licence present'].fillna(customer_details['driving licence present'].mean(), inplace = True)\n",
    "customer_details['region code'].fillna(customer_details['region code'].mean(), inplace = True)\n",
    "customer_details['previously insured'].fillna(customer_details['previously insured'].mean(), inplace = True)\n",
    "\n",
    "print (\"Summary of null values after replacing all null values for numeric columns by mean :\")\n",
    "customer_details.isna().sum()"
   ]
  },
  {
   "cell_type": "code",
   "execution_count": 7,
   "id": "73ac5373",
   "metadata": {},
   "outputs": [
    {
     "name": "stdout",
     "output_type": "stream",
     "text": [
      "Summary of null values after replacing all null values for categorical columns by mode :\n"
     ]
    },
    {
     "data": {
      "text/plain": [
       "customer_id                0\n",
       "Gender                     0\n",
       "age                        0\n",
       "driving licence present    0\n",
       "region code                0\n",
       "previously insured         0\n",
       "vehicle age                0\n",
       "vehicle damage             0\n",
       "dtype: int64"
      ]
     },
     "execution_count": 7,
     "metadata": {},
     "output_type": "execute_result"
    }
   ],
   "source": [
    "customer_details['Gender'].fillna(customer_details['Gender'].mode()[0], inplace = True)\n",
    "customer_details['vehicle age'].fillna(customer_details['vehicle age'].mode()[0], inplace = True)\n",
    "customer_details['vehicle damage'].fillna(customer_details['vehicle damage'].mode()[0], inplace = True)\n",
    "\n",
    "print (\"Summary of null values after replacing all null values for categorical columns by mode :\")\n",
    "customer_details.isna().sum()"
   ]
  },
  {
   "cell_type": "markdown",
   "id": "2749da4b",
   "metadata": {},
   "source": [
    "### Null Values preprocessing for customer policy table:-"
   ]
  },
  {
   "cell_type": "code",
   "execution_count": 8,
   "id": "14013d84",
   "metadata": {},
   "outputs": [
    {
     "name": "stdout",
     "output_type": "stream",
     "text": [
      "Summary of null values in customer policy :\n"
     ]
    },
    {
     "data": {
      "text/plain": [
       "customer_id               387\n",
       "annual premium (in Rs)    346\n",
       "sales channel code        400\n",
       "vintage                   388\n",
       "response                  361\n",
       "dtype: int64"
      ]
     },
     "execution_count": 8,
     "metadata": {},
     "output_type": "execute_result"
    }
   ],
   "source": [
    "print (\"Summary of null values in customer policy :\")\n",
    "customer_policy.isna().sum()"
   ]
  },
  {
   "cell_type": "code",
   "execution_count": 9,
   "id": "800a0dff",
   "metadata": {},
   "outputs": [
    {
     "name": "stdout",
     "output_type": "stream",
     "text": [
      "Summary of null values of customer policy after dropping customer_id :\n"
     ]
    },
    {
     "data": {
      "text/plain": [
       "customer_id                 0\n",
       "annual premium (in Rs)    344\n",
       "sales channel code        400\n",
       "vintage                   388\n",
       "response                  361\n",
       "dtype: int64"
      ]
     },
     "execution_count": 9,
     "metadata": {},
     "output_type": "execute_result"
    }
   ],
   "source": [
    "customer_policy.dropna(subset = ['customer_id'], inplace = True)\n",
    "\n",
    "print (\"Summary of null values of customer policy after dropping customer_id :\")\n",
    "customer_policy.isna().sum()"
   ]
  },
  {
   "cell_type": "code",
   "execution_count": 10,
   "id": "6604ca71",
   "metadata": {},
   "outputs": [
    {
     "name": "stdout",
     "output_type": "stream",
     "text": [
      "Summary of null values after replacing all null values for numeric columns by mean :\n"
     ]
    },
    {
     "data": {
      "text/plain": [
       "customer_id               0\n",
       "annual premium (in Rs)    0\n",
       "sales channel code        0\n",
       "vintage                   0\n",
       "response                  0\n",
       "dtype: int64"
      ]
     },
     "execution_count": 10,
     "metadata": {},
     "output_type": "execute_result"
    }
   ],
   "source": [
    "customer_policy['annual premium (in Rs)'].fillna(customer_policy['annual premium (in Rs)'].mean(), inplace = True)\n",
    "customer_policy['sales channel code'].fillna(customer_policy['sales channel code'].mean(), inplace = True)\n",
    "customer_policy['vintage'].fillna(customer_policy['vintage'].mean(), inplace = True)\n",
    "customer_policy['response'].fillna(customer_policy['response'].mean(), inplace = True)\n",
    "\n",
    "print (\"Summary of null values after replacing all null values for numeric columns by mean :\")\n",
    "customer_policy.isna().sum()"
   ]
  },
  {
   "cell_type": "markdown",
   "id": "f76e3133",
   "metadata": {},
   "source": [
    "ii) Outliers\\\n",
    "Generate a summary of count of all the outliers column wise\\\n",
    "Replace all outlier values for numeric columns by mean. \\\n",
    "(Hint1: for outlier treatment use IQR method as follows:\\\n",
    "For example: for a column X calculate Q1 = 25th percentile and Q3 = 75th percentile then IQR = Q3 – Q1 ) then to check outlier, anything lower than a Q1 – 1.5IQR or greater than Q3 + 1.5 IQR would be an outlier\\\n",
    "Hint2: For getting percentile value, explore pd.describe() function)\n"
   ]
  },
  {
   "cell_type": "markdown",
   "id": "2d983201",
   "metadata": {},
   "source": [
    "### Checkig outliers for customer detailes table"
   ]
  },
  {
   "cell_type": "code",
   "execution_count": 11,
   "id": "576eb2f0",
   "metadata": {},
   "outputs": [
    {
     "data": {
      "text/html": [
       "<div>\n",
       "<style scoped>\n",
       "    .dataframe tbody tr th:only-of-type {\n",
       "        vertical-align: middle;\n",
       "    }\n",
       "\n",
       "    .dataframe tbody tr th {\n",
       "        vertical-align: top;\n",
       "    }\n",
       "\n",
       "    .dataframe thead th {\n",
       "        text-align: right;\n",
       "    }\n",
       "</style>\n",
       "<table border=\"1\" class=\"dataframe\">\n",
       "  <thead>\n",
       "    <tr style=\"text-align: right;\">\n",
       "      <th></th>\n",
       "      <th>customer_id</th>\n",
       "      <th>age</th>\n",
       "      <th>driving licence present</th>\n",
       "      <th>region code</th>\n",
       "      <th>previously insured</th>\n",
       "    </tr>\n",
       "  </thead>\n",
       "  <tbody>\n",
       "    <tr>\n",
       "      <th>count</th>\n",
       "      <td>380723.000000</td>\n",
       "      <td>380723.000000</td>\n",
       "      <td>380723.000000</td>\n",
       "      <td>380723.000000</td>\n",
       "      <td>380723.000000</td>\n",
       "    </tr>\n",
       "    <tr>\n",
       "      <th>mean</th>\n",
       "      <td>190548.776244</td>\n",
       "      <td>38.822788</td>\n",
       "      <td>0.997868</td>\n",
       "      <td>26.389436</td>\n",
       "      <td>0.458259</td>\n",
       "    </tr>\n",
       "    <tr>\n",
       "      <th>std</th>\n",
       "      <td>110016.805160</td>\n",
       "      <td>15.504826</td>\n",
       "      <td>0.046104</td>\n",
       "      <td>13.223671</td>\n",
       "      <td>0.498006</td>\n",
       "    </tr>\n",
       "    <tr>\n",
       "      <th>min</th>\n",
       "      <td>1.000000</td>\n",
       "      <td>20.000000</td>\n",
       "      <td>0.000000</td>\n",
       "      <td>0.000000</td>\n",
       "      <td>0.000000</td>\n",
       "    </tr>\n",
       "    <tr>\n",
       "      <th>25%</th>\n",
       "      <td>95269.500000</td>\n",
       "      <td>25.000000</td>\n",
       "      <td>1.000000</td>\n",
       "      <td>15.000000</td>\n",
       "      <td>0.000000</td>\n",
       "    </tr>\n",
       "    <tr>\n",
       "      <th>50%</th>\n",
       "      <td>190543.000000</td>\n",
       "      <td>36.000000</td>\n",
       "      <td>1.000000</td>\n",
       "      <td>28.000000</td>\n",
       "      <td>0.000000</td>\n",
       "    </tr>\n",
       "    <tr>\n",
       "      <th>75%</th>\n",
       "      <td>285822.500000</td>\n",
       "      <td>49.000000</td>\n",
       "      <td>1.000000</td>\n",
       "      <td>35.000000</td>\n",
       "      <td>1.000000</td>\n",
       "    </tr>\n",
       "    <tr>\n",
       "      <th>max</th>\n",
       "      <td>381109.000000</td>\n",
       "      <td>85.000000</td>\n",
       "      <td>1.000000</td>\n",
       "      <td>52.000000</td>\n",
       "      <td>1.000000</td>\n",
       "    </tr>\n",
       "  </tbody>\n",
       "</table>\n",
       "</div>"
      ],
      "text/plain": [
       "         customer_id            age  driving licence present    region code  \\\n",
       "count  380723.000000  380723.000000            380723.000000  380723.000000   \n",
       "mean   190548.776244      38.822788                 0.997868      26.389436   \n",
       "std    110016.805160      15.504826                 0.046104      13.223671   \n",
       "min         1.000000      20.000000                 0.000000       0.000000   \n",
       "25%     95269.500000      25.000000                 1.000000      15.000000   \n",
       "50%    190543.000000      36.000000                 1.000000      28.000000   \n",
       "75%    285822.500000      49.000000                 1.000000      35.000000   \n",
       "max    381109.000000      85.000000                 1.000000      52.000000   \n",
       "\n",
       "       previously insured  \n",
       "count       380723.000000  \n",
       "mean             0.458259  \n",
       "std              0.498006  \n",
       "min              0.000000  \n",
       "25%              0.000000  \n",
       "50%              0.000000  \n",
       "75%              1.000000  \n",
       "max              1.000000  "
      ]
     },
     "execution_count": 11,
     "metadata": {},
     "output_type": "execute_result"
    }
   ],
   "source": [
    "customer_details.describe()"
   ]
  },
  {
   "cell_type": "code",
   "execution_count": 12,
   "id": "cb1033aa",
   "metadata": {},
   "outputs": [
    {
     "data": {
      "text/plain": [
       "count    380723.000000\n",
       "mean         38.822788\n",
       "std          15.504826\n",
       "min          20.000000\n",
       "25%          25.000000\n",
       "50%          36.000000\n",
       "75%          49.000000\n",
       "max          85.000000\n",
       "Name: age, dtype: float64"
      ]
     },
     "execution_count": 12,
     "metadata": {},
     "output_type": "execute_result"
    }
   ],
   "source": [
    "temp = customer_details.describe()['age']\n",
    "temp"
   ]
  },
  {
   "cell_type": "code",
   "execution_count": 13,
   "id": "d436d711",
   "metadata": {},
   "outputs": [],
   "source": [
    "Q1 = temp['25%']\n",
    "Q3 = temp['75%']\n",
    "\n",
    "IQR = Q3 - Q1"
   ]
  },
  {
   "cell_type": "code",
   "execution_count": 14,
   "id": "3479719e",
   "metadata": {},
   "outputs": [
    {
     "data": {
      "text/html": [
       "<div>\n",
       "<style scoped>\n",
       "    .dataframe tbody tr th:only-of-type {\n",
       "        vertical-align: middle;\n",
       "    }\n",
       "\n",
       "    .dataframe tbody tr th {\n",
       "        vertical-align: top;\n",
       "    }\n",
       "\n",
       "    .dataframe thead th {\n",
       "        text-align: right;\n",
       "    }\n",
       "</style>\n",
       "<table border=\"1\" class=\"dataframe\">\n",
       "  <thead>\n",
       "    <tr style=\"text-align: right;\">\n",
       "      <th></th>\n",
       "      <th>customer_id</th>\n",
       "      <th>Gender</th>\n",
       "      <th>age</th>\n",
       "      <th>driving licence present</th>\n",
       "      <th>region code</th>\n",
       "      <th>previously insured</th>\n",
       "      <th>vehicle age</th>\n",
       "      <th>vehicle damage</th>\n",
       "    </tr>\n",
       "  </thead>\n",
       "  <tbody>\n",
       "  </tbody>\n",
       "</table>\n",
       "</div>"
      ],
      "text/plain": [
       "Empty DataFrame\n",
       "Columns: [customer_id, Gender, age, driving licence present, region code, previously insured, vehicle age, vehicle damage]\n",
       "Index: []"
      ]
     },
     "execution_count": 14,
     "metadata": {},
     "output_type": "execute_result"
    }
   ],
   "source": [
    "customer_details[(customer_details['age'] < (Q1 - 1.5*IQR)) | (customer_details['age'] > (Q3 + 1.5*IQR))]"
   ]
  },
  {
   "cell_type": "code",
   "execution_count": 15,
   "id": "b4df2359",
   "metadata": {},
   "outputs": [
    {
     "name": "stdout",
     "output_type": "stream",
     "text": [
      "Outliers in age columns : 0\n",
      "Outliers in age columns : 0\n"
     ]
    }
   ],
   "source": [
    "print (\"Outliers in age columns :\" ,customer_details.loc[customer_details[\"age\"]<(Q1-IQR*1.5),\"age\"].count())\n",
    "print (\"Outliers in age columns :\" ,customer_details.loc[customer_details[\"age\"]>(Q3+IQR*1.5),\"age\"].count())"
   ]
  },
  {
   "cell_type": "code",
   "execution_count": 16,
   "id": "54240bdd",
   "metadata": {},
   "outputs": [],
   "source": [
    "customer_details[(customer_details['age'] < (Q1 - 1.5*IQR)) | (customer_details['age'] > (Q3 + 1.5*IQR))]['age'] = np.nan\n",
    "customer_details['age'].fillna(customer_details['age'].mean(), inplace = True)"
   ]
  },
  {
   "cell_type": "code",
   "execution_count": 17,
   "id": "bb2f1ac8",
   "metadata": {},
   "outputs": [
    {
     "name": "stdout",
     "output_type": "stream",
     "text": [
      "Age column after filling outliers :\n"
     ]
    },
    {
     "data": {
      "text/plain": [
       "0         44.0\n",
       "1         76.0\n",
       "2         47.0\n",
       "3         21.0\n",
       "4         29.0\n",
       "          ... \n",
       "381104    74.0\n",
       "381105    30.0\n",
       "381106    21.0\n",
       "381107    68.0\n",
       "381108    46.0\n",
       "Name: age, Length: 380723, dtype: float64"
      ]
     },
     "execution_count": 17,
     "metadata": {},
     "output_type": "execute_result"
    }
   ],
   "source": [
    "print (\"Age column after filling outliers :\")\n",
    "customer_details['age']"
   ]
  },
  {
   "cell_type": "markdown",
   "id": "8c33d6c1",
   "metadata": {},
   "source": [
    "### Checkig outliers for customer policy table"
   ]
  },
  {
   "cell_type": "code",
   "execution_count": 18,
   "id": "6b390616",
   "metadata": {},
   "outputs": [
    {
     "data": {
      "text/html": [
       "<div>\n",
       "<style scoped>\n",
       "    .dataframe tbody tr th:only-of-type {\n",
       "        vertical-align: middle;\n",
       "    }\n",
       "\n",
       "    .dataframe tbody tr th {\n",
       "        vertical-align: top;\n",
       "    }\n",
       "\n",
       "    .dataframe thead th {\n",
       "        text-align: right;\n",
       "    }\n",
       "</style>\n",
       "<table border=\"1\" class=\"dataframe\">\n",
       "  <thead>\n",
       "    <tr style=\"text-align: right;\">\n",
       "      <th></th>\n",
       "      <th>customer_id</th>\n",
       "      <th>annual premium (in Rs)</th>\n",
       "      <th>sales channel code</th>\n",
       "      <th>vintage</th>\n",
       "      <th>response</th>\n",
       "    </tr>\n",
       "  </thead>\n",
       "  <tbody>\n",
       "    <tr>\n",
       "      <th>count</th>\n",
       "      <td>380722.000000</td>\n",
       "      <td>380722.000000</td>\n",
       "      <td>380722.000000</td>\n",
       "      <td>380722.000000</td>\n",
       "      <td>380722.000000</td>\n",
       "    </tr>\n",
       "    <tr>\n",
       "      <th>mean</th>\n",
       "      <td>190547.491663</td>\n",
       "      <td>30563.999774</td>\n",
       "      <td>112.036687</td>\n",
       "      <td>154.347192</td>\n",
       "      <td>0.122526</td>\n",
       "    </tr>\n",
       "    <tr>\n",
       "      <th>std</th>\n",
       "      <td>110013.824148</td>\n",
       "      <td>17190.147550</td>\n",
       "      <td>54.177046</td>\n",
       "      <td>83.628096</td>\n",
       "      <td>0.327737</td>\n",
       "    </tr>\n",
       "    <tr>\n",
       "      <th>min</th>\n",
       "      <td>1.000000</td>\n",
       "      <td>2630.000000</td>\n",
       "      <td>1.000000</td>\n",
       "      <td>10.000000</td>\n",
       "      <td>0.000000</td>\n",
       "    </tr>\n",
       "    <tr>\n",
       "      <th>25%</th>\n",
       "      <td>95276.250000</td>\n",
       "      <td>24416.000000</td>\n",
       "      <td>29.000000</td>\n",
       "      <td>82.000000</td>\n",
       "      <td>0.000000</td>\n",
       "    </tr>\n",
       "    <tr>\n",
       "      <th>50%</th>\n",
       "      <td>190536.500000</td>\n",
       "      <td>31656.000000</td>\n",
       "      <td>131.000000</td>\n",
       "      <td>154.000000</td>\n",
       "      <td>0.000000</td>\n",
       "    </tr>\n",
       "    <tr>\n",
       "      <th>75%</th>\n",
       "      <td>285818.750000</td>\n",
       "      <td>39391.750000</td>\n",
       "      <td>152.000000</td>\n",
       "      <td>227.000000</td>\n",
       "      <td>0.000000</td>\n",
       "    </tr>\n",
       "    <tr>\n",
       "      <th>max</th>\n",
       "      <td>381109.000000</td>\n",
       "      <td>540165.000000</td>\n",
       "      <td>163.000000</td>\n",
       "      <td>299.000000</td>\n",
       "      <td>1.000000</td>\n",
       "    </tr>\n",
       "  </tbody>\n",
       "</table>\n",
       "</div>"
      ],
      "text/plain": [
       "         customer_id  annual premium (in Rs)  sales channel code  \\\n",
       "count  380722.000000           380722.000000       380722.000000   \n",
       "mean   190547.491663            30563.999774          112.036687   \n",
       "std    110013.824148            17190.147550           54.177046   \n",
       "min         1.000000             2630.000000            1.000000   \n",
       "25%     95276.250000            24416.000000           29.000000   \n",
       "50%    190536.500000            31656.000000          131.000000   \n",
       "75%    285818.750000            39391.750000          152.000000   \n",
       "max    381109.000000           540165.000000          163.000000   \n",
       "\n",
       "             vintage       response  \n",
       "count  380722.000000  380722.000000  \n",
       "mean      154.347192       0.122526  \n",
       "std        83.628096       0.327737  \n",
       "min        10.000000       0.000000  \n",
       "25%        82.000000       0.000000  \n",
       "50%       154.000000       0.000000  \n",
       "75%       227.000000       0.000000  \n",
       "max       299.000000       1.000000  "
      ]
     },
     "execution_count": 18,
     "metadata": {},
     "output_type": "execute_result"
    }
   ],
   "source": [
    "customer_policy.describe()"
   ]
  },
  {
   "cell_type": "code",
   "execution_count": 19,
   "id": "85842dca",
   "metadata": {},
   "outputs": [],
   "source": [
    "temp1 = customer_policy.describe()['annual premium (in Rs)']"
   ]
  },
  {
   "cell_type": "code",
   "execution_count": 20,
   "id": "03da3535",
   "metadata": {},
   "outputs": [],
   "source": [
    "Q1 = temp1['25%']\n",
    "Q3 = temp1['75%']\n",
    "\n",
    "IQR = Q3 - Q1"
   ]
  },
  {
   "cell_type": "code",
   "execution_count": 21,
   "id": "cfa4ba4b",
   "metadata": {},
   "outputs": [
    {
     "name": "stdout",
     "output_type": "stream",
     "text": [
      "Outliers present in annual premium (in Rs)  column are : 0\n",
      "Outliers present in annual premium (in Rs)  column are : 10332\n"
     ]
    }
   ],
   "source": [
    "print('Outliers present in annual premium (in Rs)  column are :',customer_policy.loc[customer_policy[\"annual premium (in Rs)\"]<(Q1-IQR*1.5),\"annual premium (in Rs)\"].count())\n",
    "print('Outliers present in annual premium (in Rs)  column are :',customer_policy.loc[customer_policy[\"annual premium (in Rs)\"]>(Q3+IQR*1.5),\"annual premium (in Rs)\"].count())"
   ]
  },
  {
   "cell_type": "code",
   "execution_count": 22,
   "id": "c8a9bca4",
   "metadata": {},
   "outputs": [
    {
     "data": {
      "text/html": [
       "<div>\n",
       "<style scoped>\n",
       "    .dataframe tbody tr th:only-of-type {\n",
       "        vertical-align: middle;\n",
       "    }\n",
       "\n",
       "    .dataframe tbody tr th {\n",
       "        vertical-align: top;\n",
       "    }\n",
       "\n",
       "    .dataframe thead th {\n",
       "        text-align: right;\n",
       "    }\n",
       "</style>\n",
       "<table border=\"1\" class=\"dataframe\">\n",
       "  <thead>\n",
       "    <tr style=\"text-align: right;\">\n",
       "      <th></th>\n",
       "      <th>customer_id</th>\n",
       "      <th>annual premium (in Rs)</th>\n",
       "      <th>sales channel code</th>\n",
       "      <th>vintage</th>\n",
       "      <th>response</th>\n",
       "    </tr>\n",
       "  </thead>\n",
       "  <tbody>\n",
       "    <tr>\n",
       "      <th>25</th>\n",
       "      <td>26.0</td>\n",
       "      <td>61964.0</td>\n",
       "      <td>152.0</td>\n",
       "      <td>72.0</td>\n",
       "      <td>0.0</td>\n",
       "    </tr>\n",
       "    <tr>\n",
       "      <th>37</th>\n",
       "      <td>38.0</td>\n",
       "      <td>76251.0</td>\n",
       "      <td>152.0</td>\n",
       "      <td>107.0</td>\n",
       "      <td>0.0</td>\n",
       "    </tr>\n",
       "    <tr>\n",
       "      <th>67</th>\n",
       "      <td>68.0</td>\n",
       "      <td>66338.0</td>\n",
       "      <td>124.0</td>\n",
       "      <td>73.0</td>\n",
       "      <td>0.0</td>\n",
       "    </tr>\n",
       "    <tr>\n",
       "      <th>139</th>\n",
       "      <td>140.0</td>\n",
       "      <td>62164.0</td>\n",
       "      <td>152.0</td>\n",
       "      <td>116.0</td>\n",
       "      <td>0.0</td>\n",
       "    </tr>\n",
       "    <tr>\n",
       "      <th>149</th>\n",
       "      <td>150.0</td>\n",
       "      <td>76651.0</td>\n",
       "      <td>152.0</td>\n",
       "      <td>258.0</td>\n",
       "      <td>0.0</td>\n",
       "    </tr>\n",
       "    <tr>\n",
       "      <th>...</th>\n",
       "      <td>...</td>\n",
       "      <td>...</td>\n",
       "      <td>...</td>\n",
       "      <td>...</td>\n",
       "      <td>...</td>\n",
       "    </tr>\n",
       "    <tr>\n",
       "      <th>380959</th>\n",
       "      <td>380960.0</td>\n",
       "      <td>61909.0</td>\n",
       "      <td>152.0</td>\n",
       "      <td>161.0</td>\n",
       "      <td>0.0</td>\n",
       "    </tr>\n",
       "    <tr>\n",
       "      <th>380998</th>\n",
       "      <td>380999.0</td>\n",
       "      <td>101664.0</td>\n",
       "      <td>124.0</td>\n",
       "      <td>21.0</td>\n",
       "      <td>0.0</td>\n",
       "    </tr>\n",
       "    <tr>\n",
       "      <th>381035</th>\n",
       "      <td>381036.0</td>\n",
       "      <td>62889.0</td>\n",
       "      <td>152.0</td>\n",
       "      <td>295.0</td>\n",
       "      <td>0.0</td>\n",
       "    </tr>\n",
       "    <tr>\n",
       "      <th>381047</th>\n",
       "      <td>381048.0</td>\n",
       "      <td>71915.0</td>\n",
       "      <td>7.0</td>\n",
       "      <td>233.0</td>\n",
       "      <td>0.0</td>\n",
       "    </tr>\n",
       "    <tr>\n",
       "      <th>381079</th>\n",
       "      <td>381080.0</td>\n",
       "      <td>69845.0</td>\n",
       "      <td>26.0</td>\n",
       "      <td>115.0</td>\n",
       "      <td>0.0</td>\n",
       "    </tr>\n",
       "  </tbody>\n",
       "</table>\n",
       "<p>10332 rows × 5 columns</p>\n",
       "</div>"
      ],
      "text/plain": [
       "        customer_id  annual premium (in Rs)  sales channel code  vintage  \\\n",
       "25             26.0                 61964.0               152.0     72.0   \n",
       "37             38.0                 76251.0               152.0    107.0   \n",
       "67             68.0                 66338.0               124.0     73.0   \n",
       "139           140.0                 62164.0               152.0    116.0   \n",
       "149           150.0                 76651.0               152.0    258.0   \n",
       "...             ...                     ...                 ...      ...   \n",
       "380959     380960.0                 61909.0               152.0    161.0   \n",
       "380998     380999.0                101664.0               124.0     21.0   \n",
       "381035     381036.0                 62889.0               152.0    295.0   \n",
       "381047     381048.0                 71915.0                 7.0    233.0   \n",
       "381079     381080.0                 69845.0                26.0    115.0   \n",
       "\n",
       "        response  \n",
       "25           0.0  \n",
       "37           0.0  \n",
       "67           0.0  \n",
       "139          0.0  \n",
       "149          0.0  \n",
       "...          ...  \n",
       "380959       0.0  \n",
       "380998       0.0  \n",
       "381035       0.0  \n",
       "381047       0.0  \n",
       "381079       0.0  \n",
       "\n",
       "[10332 rows x 5 columns]"
      ]
     },
     "execution_count": 22,
     "metadata": {},
     "output_type": "execute_result"
    }
   ],
   "source": [
    "customer_policy[(customer_policy['annual premium (in Rs)'] < (Q1 - 1.5*IQR)) | (customer_policy['annual premium (in Rs)'] > (Q3 + 1.5*IQR))]"
   ]
  },
  {
   "cell_type": "code",
   "execution_count": 23,
   "id": "9d0e4212",
   "metadata": {},
   "outputs": [],
   "source": [
    "customer_policy[(customer_policy['annual premium (in Rs)'] < (Q1 - 1.5*IQR)) | (customer_policy['annual premium (in Rs)'] > (Q3 + 1.5*IQR))]['annual premium (in Rs)'] = np.nan"
   ]
  },
  {
   "cell_type": "code",
   "execution_count": 24,
   "id": "17922b27",
   "metadata": {},
   "outputs": [],
   "source": [
    "customer_policy['annual premium (in Rs)'].fillna(customer_policy['annual premium (in Rs)'].mean(),inplace = True)"
   ]
  },
  {
   "cell_type": "code",
   "execution_count": 25,
   "id": "c73325fd",
   "metadata": {},
   "outputs": [
    {
     "name": "stdout",
     "output_type": "stream",
     "text": [
      "Annula Premium (in Rs) column after filling outliers :\n"
     ]
    },
    {
     "data": {
      "text/plain": [
       "0         40454.0\n",
       "1         33536.0\n",
       "2         38294.0\n",
       "3         28619.0\n",
       "4         27496.0\n",
       "           ...   \n",
       "381104    30170.0\n",
       "381105    40016.0\n",
       "381106    35118.0\n",
       "381107    44617.0\n",
       "381108    41777.0\n",
       "Name: annual premium (in Rs), Length: 380722, dtype: float64"
      ]
     },
     "execution_count": 25,
     "metadata": {},
     "output_type": "execute_result"
    }
   ],
   "source": [
    "print (\"Annula Premium (in Rs) column after filling outliers :\")\n",
    "customer_policy['annual premium (in Rs)']"
   ]
  },
  {
   "cell_type": "markdown",
   "id": "568e44e6",
   "metadata": {},
   "source": [
    "### Outliers is removed."
   ]
  },
  {
   "cell_type": "markdown",
   "id": "0d05c564",
   "metadata": {},
   "source": [
    "iii) White spaces\\\n",
    " Remove white spaces\n"
   ]
  },
  {
   "cell_type": "code",
   "execution_count": 26,
   "id": "2d505ac7",
   "metadata": {},
   "outputs": [],
   "source": [
    "customer_details['Gender'] = customer_details['Gender'].str.strip()"
   ]
  },
  {
   "cell_type": "code",
   "execution_count": 27,
   "id": "306b5e96",
   "metadata": {},
   "outputs": [],
   "source": [
    "customer_details['vehicle age'] = customer_details['vehicle age'].str.strip()"
   ]
  },
  {
   "cell_type": "code",
   "execution_count": 28,
   "id": "d702cf1a",
   "metadata": {},
   "outputs": [],
   "source": [
    "customer_details['vehicle damage'] = customer_details['vehicle damage'].str.strip()"
   ]
  },
  {
   "cell_type": "markdown",
   "id": "02172d56",
   "metadata": {},
   "source": [
    "### White spaces are removed."
   ]
  },
  {
   "cell_type": "markdown",
   "id": "7f503e1b",
   "metadata": {},
   "source": [
    "iv) case correction(lower or upper, any one) \n"
   ]
  },
  {
   "cell_type": "code",
   "execution_count": 29,
   "id": "d328ad99",
   "metadata": {},
   "outputs": [],
   "source": [
    "customer_details['Gender'] = customer_details['Gender'].str.lower()"
   ]
  },
  {
   "cell_type": "code",
   "execution_count": 30,
   "id": "78cc5187",
   "metadata": {},
   "outputs": [],
   "source": [
    "customer_details['vehicle age'] = customer_details['vehicle age'].str.lower()"
   ]
  },
  {
   "cell_type": "code",
   "execution_count": 31,
   "id": "a95a4be1",
   "metadata": {},
   "outputs": [],
   "source": [
    "customer_details['vehicle damage'] = customer_details['vehicle damage'].str.lower()"
   ]
  },
  {
   "cell_type": "markdown",
   "id": "b80504d8",
   "metadata": {},
   "source": [
    "### Conversion of nominal data into dummies:"
   ]
  },
  {
   "cell_type": "code",
   "execution_count": 32,
   "id": "501ed252",
   "metadata": {},
   "outputs": [],
   "source": [
    "dummies_gender=pd.get_dummies(customer_details[\"Gender\"])\n",
    "dummies_vehicle_age=pd.get_dummies(customer_details[\"vehicle age\"])\n",
    "dummies_vehicle_damage=pd.get_dummies(customer_details[\"vehicle damage\"])\n",
    "dummies_dlp=pd.get_dummies(customer_details[\"driving licence present\"])\n",
    "dummies_pre=pd.get_dummies(customer_details[\"previously insured\"])"
   ]
  },
  {
   "cell_type": "markdown",
   "id": "120ad436",
   "metadata": {},
   "source": [
    "### Drop Duplicates (duplicated rows)\n"
   ]
  },
  {
   "cell_type": "markdown",
   "id": "4666991a",
   "metadata": {},
   "source": [
    "###  customer details table\n"
   ]
  },
  {
   "cell_type": "code",
   "execution_count": 33,
   "id": "1aabc2cb",
   "metadata": {},
   "outputs": [
    {
     "name": "stdout",
     "output_type": "stream",
     "text": [
      "Number of duplicated rows in customer details table : 0\n"
     ]
    }
   ],
   "source": [
    "print (\"Number of duplicated rows in customer details table :\" ,customer_details.duplicated().sum())"
   ]
  },
  {
   "cell_type": "code",
   "execution_count": 34,
   "id": "23c48995",
   "metadata": {},
   "outputs": [],
   "source": [
    "customer_details.drop_duplicates(inplace=True) # drop duplicated rows"
   ]
  },
  {
   "cell_type": "markdown",
   "id": "21993af6",
   "metadata": {},
   "source": [
    "### customer policy table"
   ]
  },
  {
   "cell_type": "code",
   "execution_count": 35,
   "id": "fce911cf",
   "metadata": {},
   "outputs": [
    {
     "name": "stdout",
     "output_type": "stream",
     "text": [
      "Number of duplicated rows in customer policy table : 0\n"
     ]
    }
   ],
   "source": [
    "print (\"Number of duplicated rows in customer policy table :\" ,customer_policy.duplicated().sum())"
   ]
  },
  {
   "cell_type": "code",
   "execution_count": 36,
   "id": "1f30890b",
   "metadata": {},
   "outputs": [],
   "source": [
    "customer_policy.drop_duplicates(inplace=True) # drop duplicated rows"
   ]
  },
  {
   "cell_type": "markdown",
   "id": "e8d88058",
   "metadata": {},
   "source": [
    "#### 3) Create a Master table for future use. Join the customer table and customer_policy table to get a master table using customer_id in both tables.\\ (Hint: use pd.merge() function)"
   ]
  },
  {
   "cell_type": "code",
   "execution_count": 37,
   "id": "c226dd72",
   "metadata": {},
   "outputs": [],
   "source": [
    "master_table = pd.merge(customer_details,customer_policy, on = 'customer_id')"
   ]
  },
  {
   "cell_type": "code",
   "execution_count": 38,
   "id": "52591244",
   "metadata": {},
   "outputs": [
    {
     "name": "stdout",
     "output_type": "stream",
     "text": [
      "Master table after merging customer details and customer policy on customer_id :\n"
     ]
    },
    {
     "data": {
      "text/html": [
       "<div>\n",
       "<style scoped>\n",
       "    .dataframe tbody tr th:only-of-type {\n",
       "        vertical-align: middle;\n",
       "    }\n",
       "\n",
       "    .dataframe tbody tr th {\n",
       "        vertical-align: top;\n",
       "    }\n",
       "\n",
       "    .dataframe thead th {\n",
       "        text-align: right;\n",
       "    }\n",
       "</style>\n",
       "<table border=\"1\" class=\"dataframe\">\n",
       "  <thead>\n",
       "    <tr style=\"text-align: right;\">\n",
       "      <th></th>\n",
       "      <th>customer_id</th>\n",
       "      <th>Gender</th>\n",
       "      <th>age</th>\n",
       "      <th>driving licence present</th>\n",
       "      <th>region code</th>\n",
       "      <th>previously insured</th>\n",
       "      <th>vehicle age</th>\n",
       "      <th>vehicle damage</th>\n",
       "      <th>annual premium (in Rs)</th>\n",
       "      <th>sales channel code</th>\n",
       "      <th>vintage</th>\n",
       "      <th>response</th>\n",
       "    </tr>\n",
       "  </thead>\n",
       "  <tbody>\n",
       "    <tr>\n",
       "      <th>0</th>\n",
       "      <td>1.0</td>\n",
       "      <td>male</td>\n",
       "      <td>44.0</td>\n",
       "      <td>1.0</td>\n",
       "      <td>28.0</td>\n",
       "      <td>0.0</td>\n",
       "      <td>&gt; 2 years</td>\n",
       "      <td>yes</td>\n",
       "      <td>40454.0</td>\n",
       "      <td>26.0</td>\n",
       "      <td>217.0</td>\n",
       "      <td>1.0</td>\n",
       "    </tr>\n",
       "    <tr>\n",
       "      <th>1</th>\n",
       "      <td>2.0</td>\n",
       "      <td>male</td>\n",
       "      <td>76.0</td>\n",
       "      <td>1.0</td>\n",
       "      <td>3.0</td>\n",
       "      <td>0.0</td>\n",
       "      <td>1-2 year</td>\n",
       "      <td>no</td>\n",
       "      <td>33536.0</td>\n",
       "      <td>26.0</td>\n",
       "      <td>183.0</td>\n",
       "      <td>0.0</td>\n",
       "    </tr>\n",
       "    <tr>\n",
       "      <th>2</th>\n",
       "      <td>3.0</td>\n",
       "      <td>male</td>\n",
       "      <td>47.0</td>\n",
       "      <td>1.0</td>\n",
       "      <td>28.0</td>\n",
       "      <td>0.0</td>\n",
       "      <td>&gt; 2 years</td>\n",
       "      <td>yes</td>\n",
       "      <td>38294.0</td>\n",
       "      <td>26.0</td>\n",
       "      <td>27.0</td>\n",
       "      <td>1.0</td>\n",
       "    </tr>\n",
       "    <tr>\n",
       "      <th>3</th>\n",
       "      <td>4.0</td>\n",
       "      <td>male</td>\n",
       "      <td>21.0</td>\n",
       "      <td>1.0</td>\n",
       "      <td>11.0</td>\n",
       "      <td>1.0</td>\n",
       "      <td>&lt; 1 year</td>\n",
       "      <td>no</td>\n",
       "      <td>28619.0</td>\n",
       "      <td>152.0</td>\n",
       "      <td>203.0</td>\n",
       "      <td>0.0</td>\n",
       "    </tr>\n",
       "    <tr>\n",
       "      <th>4</th>\n",
       "      <td>5.0</td>\n",
       "      <td>female</td>\n",
       "      <td>29.0</td>\n",
       "      <td>1.0</td>\n",
       "      <td>41.0</td>\n",
       "      <td>1.0</td>\n",
       "      <td>&lt; 1 year</td>\n",
       "      <td>no</td>\n",
       "      <td>27496.0</td>\n",
       "      <td>152.0</td>\n",
       "      <td>39.0</td>\n",
       "      <td>0.0</td>\n",
       "    </tr>\n",
       "    <tr>\n",
       "      <th>...</th>\n",
       "      <td>...</td>\n",
       "      <td>...</td>\n",
       "      <td>...</td>\n",
       "      <td>...</td>\n",
       "      <td>...</td>\n",
       "      <td>...</td>\n",
       "      <td>...</td>\n",
       "      <td>...</td>\n",
       "      <td>...</td>\n",
       "      <td>...</td>\n",
       "      <td>...</td>\n",
       "      <td>...</td>\n",
       "    </tr>\n",
       "    <tr>\n",
       "      <th>380331</th>\n",
       "      <td>381105.0</td>\n",
       "      <td>male</td>\n",
       "      <td>74.0</td>\n",
       "      <td>1.0</td>\n",
       "      <td>26.0</td>\n",
       "      <td>1.0</td>\n",
       "      <td>1-2 year</td>\n",
       "      <td>no</td>\n",
       "      <td>30170.0</td>\n",
       "      <td>26.0</td>\n",
       "      <td>88.0</td>\n",
       "      <td>0.0</td>\n",
       "    </tr>\n",
       "    <tr>\n",
       "      <th>380332</th>\n",
       "      <td>381106.0</td>\n",
       "      <td>male</td>\n",
       "      <td>30.0</td>\n",
       "      <td>1.0</td>\n",
       "      <td>37.0</td>\n",
       "      <td>1.0</td>\n",
       "      <td>&lt; 1 year</td>\n",
       "      <td>no</td>\n",
       "      <td>40016.0</td>\n",
       "      <td>152.0</td>\n",
       "      <td>131.0</td>\n",
       "      <td>0.0</td>\n",
       "    </tr>\n",
       "    <tr>\n",
       "      <th>380333</th>\n",
       "      <td>381107.0</td>\n",
       "      <td>male</td>\n",
       "      <td>21.0</td>\n",
       "      <td>1.0</td>\n",
       "      <td>30.0</td>\n",
       "      <td>1.0</td>\n",
       "      <td>&lt; 1 year</td>\n",
       "      <td>no</td>\n",
       "      <td>35118.0</td>\n",
       "      <td>160.0</td>\n",
       "      <td>161.0</td>\n",
       "      <td>0.0</td>\n",
       "    </tr>\n",
       "    <tr>\n",
       "      <th>380334</th>\n",
       "      <td>381108.0</td>\n",
       "      <td>female</td>\n",
       "      <td>68.0</td>\n",
       "      <td>1.0</td>\n",
       "      <td>14.0</td>\n",
       "      <td>0.0</td>\n",
       "      <td>&gt; 2 years</td>\n",
       "      <td>yes</td>\n",
       "      <td>44617.0</td>\n",
       "      <td>124.0</td>\n",
       "      <td>74.0</td>\n",
       "      <td>0.0</td>\n",
       "    </tr>\n",
       "    <tr>\n",
       "      <th>380335</th>\n",
       "      <td>381109.0</td>\n",
       "      <td>male</td>\n",
       "      <td>46.0</td>\n",
       "      <td>1.0</td>\n",
       "      <td>29.0</td>\n",
       "      <td>0.0</td>\n",
       "      <td>1-2 year</td>\n",
       "      <td>no</td>\n",
       "      <td>41777.0</td>\n",
       "      <td>26.0</td>\n",
       "      <td>237.0</td>\n",
       "      <td>0.0</td>\n",
       "    </tr>\n",
       "  </tbody>\n",
       "</table>\n",
       "<p>380336 rows × 12 columns</p>\n",
       "</div>"
      ],
      "text/plain": [
       "        customer_id  Gender   age  driving licence present  region code  \\\n",
       "0               1.0    male  44.0                      1.0         28.0   \n",
       "1               2.0    male  76.0                      1.0          3.0   \n",
       "2               3.0    male  47.0                      1.0         28.0   \n",
       "3               4.0    male  21.0                      1.0         11.0   \n",
       "4               5.0  female  29.0                      1.0         41.0   \n",
       "...             ...     ...   ...                      ...          ...   \n",
       "380331     381105.0    male  74.0                      1.0         26.0   \n",
       "380332     381106.0    male  30.0                      1.0         37.0   \n",
       "380333     381107.0    male  21.0                      1.0         30.0   \n",
       "380334     381108.0  female  68.0                      1.0         14.0   \n",
       "380335     381109.0    male  46.0                      1.0         29.0   \n",
       "\n",
       "        previously insured vehicle age vehicle damage  annual premium (in Rs)  \\\n",
       "0                      0.0   > 2 years            yes                 40454.0   \n",
       "1                      0.0    1-2 year             no                 33536.0   \n",
       "2                      0.0   > 2 years            yes                 38294.0   \n",
       "3                      1.0    < 1 year             no                 28619.0   \n",
       "4                      1.0    < 1 year             no                 27496.0   \n",
       "...                    ...         ...            ...                     ...   \n",
       "380331                 1.0    1-2 year             no                 30170.0   \n",
       "380332                 1.0    < 1 year             no                 40016.0   \n",
       "380333                 1.0    < 1 year             no                 35118.0   \n",
       "380334                 0.0   > 2 years            yes                 44617.0   \n",
       "380335                 0.0    1-2 year             no                 41777.0   \n",
       "\n",
       "        sales channel code  vintage  response  \n",
       "0                     26.0    217.0       1.0  \n",
       "1                     26.0    183.0       0.0  \n",
       "2                     26.0     27.0       1.0  \n",
       "3                    152.0    203.0       0.0  \n",
       "4                    152.0     39.0       0.0  \n",
       "...                    ...      ...       ...  \n",
       "380331                26.0     88.0       0.0  \n",
       "380332               152.0    131.0       0.0  \n",
       "380333               160.0    161.0       0.0  \n",
       "380334               124.0     74.0       0.0  \n",
       "380335                26.0    237.0       0.0  \n",
       "\n",
       "[380336 rows x 12 columns]"
      ]
     },
     "execution_count": 38,
     "metadata": {},
     "output_type": "execute_result"
    }
   ],
   "source": [
    "print (\"Master table after merging customer details and customer policy on customer_id :\")\n",
    "master_table"
   ]
  },
  {
   "cell_type": "markdown",
   "id": "e6e0fcae",
   "metadata": {},
   "source": [
    "### Customer_detailes table and customer_policy_detailes table are merged."
   ]
  },
  {
   "cell_type": "markdown",
   "id": "38315df7",
   "metadata": {},
   "source": [
    "."
   ]
  },
  {
   "cell_type": "markdown",
   "id": "d2f0711e",
   "metadata": {},
   "source": [
    "4) Company needs some important information from the master table to make decisions for future growth.They needs following information:\\\n",
    "    i) Gender wise average annual premium\\\n",
    "    ii) Age wise average annual premium\\\n",
    "    iii) Is your data balanced between the genders?\\\n",
    "          (Hint: Data is balanced if number of counts in each group is approximately same)\\\n",
    "    iv) Vehicle age wise average annual premium.\\\n"
   ]
  },
  {
   "cell_type": "code",
   "execution_count": 39,
   "id": "cc3baed8",
   "metadata": {},
   "outputs": [
    {
     "name": "stdout",
     "output_type": "stream",
     "text": [
      "Gender wise average annual premium :\n"
     ]
    },
    {
     "data": {
      "text/plain": [
       "Gender\n",
       "female    30492.028478\n",
       "male      30623.619273\n",
       "Name: annual premium (in Rs), dtype: float64"
      ]
     },
     "execution_count": 39,
     "metadata": {},
     "output_type": "execute_result"
    }
   ],
   "source": [
    "gen_wise_avg = master_table.groupby([\"Gender\"])[\"annual premium (in Rs)\"].mean()\n",
    "print (\"Gender wise average annual premium :\")\n",
    "gen_wise_avg"
   ]
  },
  {
   "cell_type": "code",
   "execution_count": 40,
   "id": "525c7009",
   "metadata": {},
   "outputs": [
    {
     "name": "stdout",
     "output_type": "stream",
     "text": [
      "Age wise average annual premium :\n"
     ]
    },
    {
     "data": {
      "text/plain": [
       "age\n",
       "20.0    26924.620173\n",
       "21.0    30564.475810\n",
       "22.0    30823.778102\n",
       "23.0    30688.606298\n",
       "24.0    31183.802890\n",
       "            ...     \n",
       "81.0    31201.571429\n",
       "82.0    37705.379310\n",
       "83.0    31012.727273\n",
       "84.0    35440.818182\n",
       "85.0    29792.363636\n",
       "Name: annual premium (in Rs), Length: 67, dtype: float64"
      ]
     },
     "execution_count": 40,
     "metadata": {},
     "output_type": "execute_result"
    }
   ],
   "source": [
    "age_wise_avg = master_table.groupby([\"age\"])[\"annual premium (in Rs)\"].mean()\n",
    "print (\"Age wise average annual premium :\")\n",
    "age_wise_avg"
   ]
  },
  {
   "cell_type": "code",
   "execution_count": 41,
   "id": "4de6ae25",
   "metadata": {},
   "outputs": [
    {
     "data": {
      "text/html": [
       "<div>\n",
       "<style scoped>\n",
       "    .dataframe tbody tr th:only-of-type {\n",
       "        vertical-align: middle;\n",
       "    }\n",
       "\n",
       "    .dataframe tbody tr th {\n",
       "        vertical-align: top;\n",
       "    }\n",
       "\n",
       "    .dataframe thead th {\n",
       "        text-align: right;\n",
       "    }\n",
       "</style>\n",
       "<table border=\"1\" class=\"dataframe\">\n",
       "  <thead>\n",
       "    <tr style=\"text-align: right;\">\n",
       "      <th></th>\n",
       "      <th>customer_id</th>\n",
       "      <th>age</th>\n",
       "      <th>driving licence present</th>\n",
       "      <th>region code</th>\n",
       "      <th>previously insured</th>\n",
       "      <th>vehicle age</th>\n",
       "      <th>vehicle damage</th>\n",
       "      <th>annual premium (in Rs)</th>\n",
       "      <th>sales channel code</th>\n",
       "      <th>vintage</th>\n",
       "      <th>response</th>\n",
       "    </tr>\n",
       "    <tr>\n",
       "      <th>Gender</th>\n",
       "      <th></th>\n",
       "      <th></th>\n",
       "      <th></th>\n",
       "      <th></th>\n",
       "      <th></th>\n",
       "      <th></th>\n",
       "      <th></th>\n",
       "      <th></th>\n",
       "      <th></th>\n",
       "      <th></th>\n",
       "      <th></th>\n",
       "    </tr>\n",
       "  </thead>\n",
       "  <tbody>\n",
       "    <tr>\n",
       "      <th>female</th>\n",
       "      <td>174485</td>\n",
       "      <td>174485</td>\n",
       "      <td>174485</td>\n",
       "      <td>174485</td>\n",
       "      <td>174485</td>\n",
       "      <td>174485</td>\n",
       "      <td>174485</td>\n",
       "      <td>174485</td>\n",
       "      <td>174485</td>\n",
       "      <td>174485</td>\n",
       "      <td>174485</td>\n",
       "    </tr>\n",
       "    <tr>\n",
       "      <th>male</th>\n",
       "      <td>205851</td>\n",
       "      <td>205851</td>\n",
       "      <td>205851</td>\n",
       "      <td>205851</td>\n",
       "      <td>205851</td>\n",
       "      <td>205851</td>\n",
       "      <td>205851</td>\n",
       "      <td>205851</td>\n",
       "      <td>205851</td>\n",
       "      <td>205851</td>\n",
       "      <td>205851</td>\n",
       "    </tr>\n",
       "  </tbody>\n",
       "</table>\n",
       "</div>"
      ],
      "text/plain": [
       "        customer_id     age  driving licence present  region code  \\\n",
       "Gender                                                              \n",
       "female       174485  174485                   174485       174485   \n",
       "male         205851  205851                   205851       205851   \n",
       "\n",
       "        previously insured  vehicle age  vehicle damage  \\\n",
       "Gender                                                    \n",
       "female              174485       174485          174485   \n",
       "male                205851       205851          205851   \n",
       "\n",
       "        annual premium (in Rs)  sales channel code  vintage  response  \n",
       "Gender                                                                 \n",
       "female                  174485              174485   174485    174485  \n",
       "male                    205851              205851   205851    205851  "
      ]
     },
     "execution_count": 41,
     "metadata": {},
     "output_type": "execute_result"
    }
   ],
   "source": [
    "master_table.groupby('Gender').count() \n",
    "\n",
    "# The data is balanced between the gender as the data for gender is approximately same"
   ]
  },
  {
   "cell_type": "code",
   "execution_count": 42,
   "id": "81bb0cf5",
   "metadata": {},
   "outputs": [
    {
     "name": "stdout",
     "output_type": "stream",
     "text": [
      "Vehicle age wise average annual premium :\n"
     ]
    },
    {
     "data": {
      "text/plain": [
       "vehicle age\n",
       "1-2 year     30524.629840\n",
       "< 1 year     30115.716367\n",
       "> 2 years    35657.520845\n",
       "Name: annual premium (in Rs), dtype: float64"
      ]
     },
     "execution_count": 42,
     "metadata": {},
     "output_type": "execute_result"
    }
   ],
   "source": [
    "vehage_wise_avg = master_table.groupby([\"vehicle age\"])[\"annual premium (in Rs)\"].mean()\n",
    "print (\"Vehicle age wise average annual premium :\")\n",
    "vehage_wise_avg"
   ]
  },
  {
   "cell_type": "markdown",
   "id": "17178700",
   "metadata": {},
   "source": [
    "5)Is there any relation between Person Age and annual premium? \\\n",
    "Hint: use correlation function (Correlation describes the relationship between two variables).\\\n",
    "Correlation coefficient < -0.5           - Strong negative relationship\\\n",
    "Correlation coefficient > 0.5            -  Strong positive relationship\\\n",
    "0.5 < Correlation coefficient < 0.5       - There is no relationship. \n"
   ]
  },
  {
   "cell_type": "code",
   "execution_count": 43,
   "id": "84f35750",
   "metadata": {},
   "outputs": [
    {
     "data": {
      "text/plain": [
       "0.0677151598661391"
      ]
     },
     "execution_count": 43,
     "metadata": {},
     "output_type": "execute_result"
    }
   ],
   "source": [
    "n=master_table['age'].corr(master_table[\"annual premium (in Rs)\"])\n",
    "n"
   ]
  },
  {
   "cell_type": "code",
   "execution_count": 44,
   "id": "86693551",
   "metadata": {},
   "outputs": [],
   "source": [
    "# Since the pearson coefficient lies between 0.5 and -0.5\n",
    "\n",
    "# So,there is no relation between age and annual premium (in Rs)"
   ]
  }
 ],
 "metadata": {
  "kernelspec": {
   "display_name": "Python 3 (ipykernel)",
   "language": "python",
   "name": "python3"
  },
  "language_info": {
   "codemirror_mode": {
    "name": "ipython",
    "version": 3
   },
   "file_extension": ".py",
   "mimetype": "text/x-python",
   "name": "python",
   "nbconvert_exporter": "python",
   "pygments_lexer": "ipython3",
   "version": "3.9.12"
  }
 },
 "nbformat": 4,
 "nbformat_minor": 5
}
